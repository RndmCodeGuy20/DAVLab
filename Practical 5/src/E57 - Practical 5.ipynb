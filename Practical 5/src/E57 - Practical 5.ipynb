{
 "cells": [
  {
   "cell_type": "markdown",
   "source": [
    "<center><h1 style=\"font-family: 'Inria Serif'; font-size:38px\">Shri Ramdeobaba College of Engineering and Management<br>Nagpur 440013</h1></center>\n",
    "<center><h1 style=\"font-family: 'Inria Serif'; font-size:38px\">Department of Computer Science Engineering (AIML)</h1></center>\n",
    "<center><h2 style=\"font-family: 'Inria Serif'; font-size:32px\">Data Analysis and Visualization Lab - Practical 5</h2></center>\n",
    "\n",
    "<hr style=\"border:0px\" />\n",
    "<br/>\n",
    "<br>\n",
    "<div class=\"text aim\" style=\"font-family: 'Inria Serif'; font-size:22px\">Name : Pratik Agrawal</div>\n",
    "<div class=\"text aim\" style=\"font-family: 'Inria Serif'; font-size:22px\">Class : CSE AIML E4</div>\n",
    "<div class=\"text aim\" style=\"font-family: 'Inria Serif'; font-size:22px\">Roll No : 57</div>\n",
    "<br>\n",
    "<div class=\"text aim\" style=\"font-family: 'Inria Serif'; font-size:28px\">Aim : Write a program to perform following statistical test\n",
    "using user defined functions.\n",
    "<ol>\n",
    "<li style=\"font-family: 'Inria Serif'; font-size:28px\">Z test</li>\n",
    "<li style=\"font-family: 'Inria Serif'; font-size:28px\">T-test</li>\n",
    "<li style=\"font-family: 'Inria Serif'; font-size:28px\">ANNOVA Test</li>\n",
    "</ol>\n",
    "</div>\n",
    "\n",
    "<div class=\"text\" style=\"font-family: 'Inria Serif'; font-size:28px\"></div>"
   ],
   "metadata": {
    "collapsed": false
   },
   "id": "bef2cde31cbd6c6c"
  },
  {
   "cell_type": "markdown",
   "source": [
    "### <div class=\"text\" style=\"font-family: 'Inria Serif'; font-size:28px\">Importing Libraries</div>"
   ],
   "metadata": {
    "collapsed": false
   },
   "id": "487c4012c0b3fc0c"
  },
  {
   "cell_type": "code",
   "execution_count": 1,
   "outputs": [],
   "source": [
    "import numpy as np\n",
    "import pandas as pd\n",
    "import matplotlib.pyplot as plt\n",
    "import seaborn as sns\n",
    "from scipy import stats\n",
    "from scipy.stats import norm\n",
    "from scipy.stats import t"
   ],
   "metadata": {
    "collapsed": false,
    "ExecuteTime": {
     "end_time": "2023-10-06T05:37:23.973604Z",
     "start_time": "2023-10-06T05:37:23.961591600Z"
    }
   },
   "id": "e79dfcc04c741e69"
  },
  {
   "cell_type": "markdown",
   "source": [
    "### <div class=\"text\" style=\"font-family: 'Inria Serif'; font-size:28px\">IRIS Dataset</div>"
   ],
   "metadata": {
    "collapsed": false
   },
   "id": "3e83afc4f8876c35"
  },
  {
   "cell_type": "code",
   "execution_count": 2,
   "outputs": [],
   "source": [
    "iris_df = pd.read_csv('../data/iris.csv')"
   ],
   "metadata": {
    "collapsed": false,
    "ExecuteTime": {
     "end_time": "2023-10-06T05:40:02.874382100Z",
     "start_time": "2023-10-06T05:40:02.666102800Z"
    }
   },
   "id": "777fdc79cc73bb99"
  },
  {
   "cell_type": "code",
   "execution_count": 3,
   "id": "initial_id",
   "metadata": {
    "collapsed": true,
    "ExecuteTime": {
     "end_time": "2023-10-06T05:40:09.587105600Z",
     "start_time": "2023-10-06T05:40:09.528930400Z"
    }
   },
   "outputs": [
    {
     "data": {
      "text/plain": "   Id  SepalLengthCm  SepalWidthCm  PetalLengthCm  PetalWidthCm      Species\n0   1            5.1           3.5            1.4           0.2  Iris-setosa\n1   2            4.9           3.0            1.4           0.2  Iris-setosa\n2   3            4.7           3.2            1.3           0.2  Iris-setosa\n3   4            4.6           3.1            1.5           0.2  Iris-setosa\n4   5            5.0           3.6            1.4           0.2  Iris-setosa",
      "text/html": "<div>\n<style scoped>\n    .dataframe tbody tr th:only-of-type {\n        vertical-align: middle;\n    }\n\n    .dataframe tbody tr th {\n        vertical-align: top;\n    }\n\n    .dataframe thead th {\n        text-align: right;\n    }\n</style>\n<table border=\"1\" class=\"dataframe\">\n  <thead>\n    <tr style=\"text-align: right;\">\n      <th></th>\n      <th>Id</th>\n      <th>SepalLengthCm</th>\n      <th>SepalWidthCm</th>\n      <th>PetalLengthCm</th>\n      <th>PetalWidthCm</th>\n      <th>Species</th>\n    </tr>\n  </thead>\n  <tbody>\n    <tr>\n      <th>0</th>\n      <td>1</td>\n      <td>5.1</td>\n      <td>3.5</td>\n      <td>1.4</td>\n      <td>0.2</td>\n      <td>Iris-setosa</td>\n    </tr>\n    <tr>\n      <th>1</th>\n      <td>2</td>\n      <td>4.9</td>\n      <td>3.0</td>\n      <td>1.4</td>\n      <td>0.2</td>\n      <td>Iris-setosa</td>\n    </tr>\n    <tr>\n      <th>2</th>\n      <td>3</td>\n      <td>4.7</td>\n      <td>3.2</td>\n      <td>1.3</td>\n      <td>0.2</td>\n      <td>Iris-setosa</td>\n    </tr>\n    <tr>\n      <th>3</th>\n      <td>4</td>\n      <td>4.6</td>\n      <td>3.1</td>\n      <td>1.5</td>\n      <td>0.2</td>\n      <td>Iris-setosa</td>\n    </tr>\n    <tr>\n      <th>4</th>\n      <td>5</td>\n      <td>5.0</td>\n      <td>3.6</td>\n      <td>1.4</td>\n      <td>0.2</td>\n      <td>Iris-setosa</td>\n    </tr>\n  </tbody>\n</table>\n</div>"
     },
     "execution_count": 3,
     "metadata": {},
     "output_type": "execute_result"
    }
   ],
   "source": [
    "iris_df.head()"
   ]
  },
  {
   "cell_type": "code",
   "execution_count": 4,
   "outputs": [
    {
     "data": {
      "text/plain": "               Id  SepalLengthCm  SepalWidthCm  PetalLengthCm  PetalWidthCm\ncount  150.000000     150.000000    150.000000     150.000000    150.000000\nmean    75.500000       5.843333      3.054000       3.758667      1.198667\nstd     43.445368       0.828066      0.433594       1.764420      0.763161\nmin      1.000000       4.300000      2.000000       1.000000      0.100000\n25%     38.250000       5.100000      2.800000       1.600000      0.300000\n50%     75.500000       5.800000      3.000000       4.350000      1.300000\n75%    112.750000       6.400000      3.300000       5.100000      1.800000\nmax    150.000000       7.900000      4.400000       6.900000      2.500000",
      "text/html": "<div>\n<style scoped>\n    .dataframe tbody tr th:only-of-type {\n        vertical-align: middle;\n    }\n\n    .dataframe tbody tr th {\n        vertical-align: top;\n    }\n\n    .dataframe thead th {\n        text-align: right;\n    }\n</style>\n<table border=\"1\" class=\"dataframe\">\n  <thead>\n    <tr style=\"text-align: right;\">\n      <th></th>\n      <th>Id</th>\n      <th>SepalLengthCm</th>\n      <th>SepalWidthCm</th>\n      <th>PetalLengthCm</th>\n      <th>PetalWidthCm</th>\n    </tr>\n  </thead>\n  <tbody>\n    <tr>\n      <th>count</th>\n      <td>150.000000</td>\n      <td>150.000000</td>\n      <td>150.000000</td>\n      <td>150.000000</td>\n      <td>150.000000</td>\n    </tr>\n    <tr>\n      <th>mean</th>\n      <td>75.500000</td>\n      <td>5.843333</td>\n      <td>3.054000</td>\n      <td>3.758667</td>\n      <td>1.198667</td>\n    </tr>\n    <tr>\n      <th>std</th>\n      <td>43.445368</td>\n      <td>0.828066</td>\n      <td>0.433594</td>\n      <td>1.764420</td>\n      <td>0.763161</td>\n    </tr>\n    <tr>\n      <th>min</th>\n      <td>1.000000</td>\n      <td>4.300000</td>\n      <td>2.000000</td>\n      <td>1.000000</td>\n      <td>0.100000</td>\n    </tr>\n    <tr>\n      <th>25%</th>\n      <td>38.250000</td>\n      <td>5.100000</td>\n      <td>2.800000</td>\n      <td>1.600000</td>\n      <td>0.300000</td>\n    </tr>\n    <tr>\n      <th>50%</th>\n      <td>75.500000</td>\n      <td>5.800000</td>\n      <td>3.000000</td>\n      <td>4.350000</td>\n      <td>1.300000</td>\n    </tr>\n    <tr>\n      <th>75%</th>\n      <td>112.750000</td>\n      <td>6.400000</td>\n      <td>3.300000</td>\n      <td>5.100000</td>\n      <td>1.800000</td>\n    </tr>\n    <tr>\n      <th>max</th>\n      <td>150.000000</td>\n      <td>7.900000</td>\n      <td>4.400000</td>\n      <td>6.900000</td>\n      <td>2.500000</td>\n    </tr>\n  </tbody>\n</table>\n</div>"
     },
     "execution_count": 4,
     "metadata": {},
     "output_type": "execute_result"
    }
   ],
   "source": [
    "iris_df.describe()"
   ],
   "metadata": {
    "collapsed": false,
    "ExecuteTime": {
     "end_time": "2023-10-06T05:40:12.104125900Z",
     "start_time": "2023-10-06T05:40:12.013007700Z"
    }
   },
   "id": "c7cd9cdeaed1c4d3"
  },
  {
   "cell_type": "code",
   "execution_count": 5,
   "outputs": [
    {
     "name": "stdout",
     "output_type": "stream",
     "text": [
      "<class 'pandas.core.frame.DataFrame'>\n",
      "RangeIndex: 150 entries, 0 to 149\n",
      "Data columns (total 6 columns):\n",
      " #   Column         Non-Null Count  Dtype  \n",
      "---  ------         --------------  -----  \n",
      " 0   Id             150 non-null    int64  \n",
      " 1   SepalLengthCm  150 non-null    float64\n",
      " 2   SepalWidthCm   150 non-null    float64\n",
      " 3   PetalLengthCm  150 non-null    float64\n",
      " 4   PetalWidthCm   150 non-null    float64\n",
      " 5   Species        150 non-null    object \n",
      "dtypes: float64(4), int64(1), object(1)\n",
      "memory usage: 7.2+ KB\n"
     ]
    }
   ],
   "source": [
    "iris_df.info()"
   ],
   "metadata": {
    "collapsed": false,
    "ExecuteTime": {
     "end_time": "2023-10-06T05:40:14.332953500Z",
     "start_time": "2023-10-06T05:40:14.263772100Z"
    }
   },
   "id": "969a394e757ea9e"
  },
  {
   "cell_type": "markdown",
   "source": [
    "### <div class=\"text\" style=\"font-family: 'Inria Serif'; font-size:28px\">Z Test</div>"
   ],
   "metadata": {
    "collapsed": false
   },
   "id": "f834e5ba93ba83ec"
  },
  {
   "cell_type": "code",
   "execution_count": 6,
   "outputs": [],
   "source": [
    "def z_test(data, mu, sigma, alpha):\n",
    "    z = (data.mean() - mu)/(sigma/np.sqrt(len(data)))\n",
    "    p = 2*(1 - stats.norm.cdf(abs(z)))\n",
    "    print(\"Z value: \", z)\n",
    "    print(\"P value: \", p)\n",
    "    if p < alpha:\n",
    "        print(\"Reject Null Hypothesis\")\n",
    "    else:\n",
    "        print(\"Accept Null Hypothesis\")"
   ],
   "metadata": {
    "collapsed": false,
    "ExecuteTime": {
     "end_time": "2023-10-06T05:40:44.507297200Z",
     "start_time": "2023-10-06T05:40:44.439294500Z"
    }
   },
   "id": "f304df7b71a5cc41"
  },
  {
   "cell_type": "code",
   "execution_count": 8,
   "outputs": [
    {
     "name": "stdout",
     "output_type": "stream",
     "text": [
      "Z value:  0.04918654101975022\n",
      "P value:  0.9607706369948588\n",
      "Accept Null Hypothesis\n"
     ]
    }
   ],
   "source": [
    "z_test(iris_df['SepalLengthCm'], 5.84, 0.83, 0.05)"
   ],
   "metadata": {
    "collapsed": false,
    "ExecuteTime": {
     "end_time": "2023-10-06T05:40:58.033619400Z",
     "start_time": "2023-10-06T05:40:57.961624300Z"
    }
   },
   "id": "c194124a9a8db47c"
  },
  {
   "cell_type": "markdown",
   "source": [
    "### <div class=\"text\" style=\"font-family: 'Inria Serif'; font-size:28px\">T Test</div>"
   ],
   "metadata": {
    "collapsed": false
   },
   "id": "b0d56fc75d2f65d7"
  },
  {
   "cell_type": "code",
   "execution_count": 9,
   "outputs": [],
   "source": [
    "def t_test(data, mu, alpha):\n",
    "    t = (data.mean() - mu)/(data.std()/np.sqrt(len(data)))\n",
    "    p = 2*(1 - stats.t.cdf(abs(t), len(data)-1))\n",
    "    print(\"T value: \", t)\n",
    "    print(\"P value: \", p)\n",
    "    if p < alpha:\n",
    "        print(\"Reject Null Hypothesis\")\n",
    "    else:\n",
    "        print(\"Accept Null Hypothesis\")"
   ],
   "metadata": {
    "collapsed": false,
    "ExecuteTime": {
     "end_time": "2023-10-06T05:41:16.987757500Z",
     "start_time": "2023-10-06T05:41:16.956698500Z"
    }
   },
   "id": "e943d4f7ddf1ab18"
  },
  {
   "cell_type": "code",
   "execution_count": 10,
   "outputs": [
    {
     "name": "stdout",
     "output_type": "stream",
     "text": [
      "T value:  0.04930141164702255\n",
      "P value:  0.9607451200325001\n",
      "Accept Null Hypothesis\n"
     ]
    }
   ],
   "source": [
    "t_test(iris_df['SepalLengthCm'], 5.84, 0.05)"
   ],
   "metadata": {
    "collapsed": false,
    "ExecuteTime": {
     "end_time": "2023-10-06T05:41:20.091789900Z",
     "start_time": "2023-10-06T05:41:20.081123600Z"
    }
   },
   "id": "7195e7a9adb2bab8"
  },
  {
   "cell_type": "code",
   "execution_count": 11,
   "outputs": [
    {
     "name": "stdout",
     "output_type": "stream",
     "text": [
      "T value:  0.04930141164702255\n",
      "P value:  0.9607451200325001\n",
      "Accept Null Hypothesis\n"
     ]
    }
   ],
   "source": [
    "t_test(iris_df['SepalLengthCm'], 5.84, 0.01)"
   ],
   "metadata": {
    "collapsed": false,
    "ExecuteTime": {
     "end_time": "2023-10-06T05:41:27.982440400Z",
     "start_time": "2023-10-06T05:41:27.971427700Z"
    }
   },
   "id": "fce56d794147a186"
  },
  {
   "cell_type": "markdown",
   "source": [
    "### <div class=\"text\" style=\"font-family: 'Inria Serif'; font-size:28px\">ANOVA Test</div>"
   ],
   "metadata": {
    "collapsed": false
   },
   "id": "e6ba6455fc57e418"
  },
  {
   "cell_type": "code",
   "execution_count": 12,
   "outputs": [],
   "source": [
    "def anova_test(data1, data2, data3, alpha):\n",
    "    f, p = stats.f_oneway(data1, data2, data3)\n",
    "    print(\"F value: \", f)\n",
    "    print(\"P value: \", p)\n",
    "    if p < alpha:\n",
    "        print(\"Reject Null Hypothesis\")\n",
    "    else:\n",
    "        print(\"Accept Null Hypothesis\")"
   ],
   "metadata": {
    "collapsed": false,
    "ExecuteTime": {
     "end_time": "2023-10-06T05:41:44.133348900Z",
     "start_time": "2023-10-06T05:41:44.105343800Z"
    }
   },
   "id": "22537e2d69b07051"
  },
  {
   "cell_type": "code",
   "execution_count": 13,
   "outputs": [
    {
     "name": "stdout",
     "output_type": "stream",
     "text": [
      "F value:  237.45598625019218\n",
      "P value:  5.440492586967052e-71\n",
      "Reject Null Hypothesis\n"
     ]
    }
   ],
   "source": [
    "anova_test(iris_df['SepalLengthCm'], iris_df['SepalWidthCm'], iris_df['PetalLengthCm'], 0.05)"
   ],
   "metadata": {
    "collapsed": false,
    "ExecuteTime": {
     "end_time": "2023-10-06T05:41:48.088615600Z",
     "start_time": "2023-10-06T05:41:48.046103800Z"
    }
   },
   "id": "98595eeac40a7a2d"
  },
  {
   "cell_type": "code",
   "execution_count": 14,
   "outputs": [
    {
     "name": "stdout",
     "output_type": "stream",
     "text": [
      "F value:  237.45598625019218\n",
      "P value:  5.440492586967052e-71\n",
      "Reject Null Hypothesis\n"
     ]
    }
   ],
   "source": [
    "anova_test(iris_df['SepalLengthCm'], iris_df['SepalWidthCm'], iris_df['PetalLengthCm'], 0.01)"
   ],
   "metadata": {
    "collapsed": false,
    "ExecuteTime": {
     "end_time": "2023-10-06T05:41:51.234425700Z",
     "start_time": "2023-10-06T05:41:50.957971700Z"
    }
   },
   "id": "63a50267583f2360"
  },
  {
   "cell_type": "markdown",
   "source": [
    "### <div class=\"text\" style=\"font-family: 'Inria Serif'; font-size:28px\">Verify The Result With Standard Functions</div>"
   ],
   "metadata": {
    "collapsed": false
   },
   "id": "905ccb643ad1a559"
  },
  {
   "cell_type": "code",
   "execution_count": 15,
   "outputs": [
    {
     "name": "stdout",
     "output_type": "stream",
     "text": [
      "0.9606790945560326 0.04930141164702255\n"
     ]
    }
   ],
   "source": [
    "from statsmodels.stats import weightstats as stests\n",
    "\n",
    "ztest ,pval = stests.ztest(iris_df['SepalLengthCm'], x2=None, value=5.84)\n",
    "\n",
    "print(float(pval), float(ztest))"
   ],
   "metadata": {
    "collapsed": false,
    "ExecuteTime": {
     "end_time": "2023-10-06T05:46:03.239320500Z",
     "start_time": "2023-10-06T05:46:01.502161500Z"
    }
   },
   "id": "5069f9b2f1c3819c"
  },
  {
   "cell_type": "code",
   "execution_count": 17,
   "outputs": [
    {
     "name": "stdout",
     "output_type": "stream",
     "text": [
      "0.9607451200325001 0.04930141164702255\n"
     ]
    }
   ],
   "source": [
    "ttest ,pval = stats.ttest_1samp(iris_df['SepalLengthCm'], 5.84)\n",
    "\n",
    "print(float(pval), float(ttest))"
   ],
   "metadata": {
    "collapsed": false,
    "ExecuteTime": {
     "end_time": "2023-10-06T05:46:14.643470500Z",
     "start_time": "2023-10-06T05:46:14.588677900Z"
    }
   },
   "id": "2694cae85e0f7e43"
  },
  {
   "cell_type": "code",
   "execution_count": 19,
   "outputs": [
    {
     "name": "stdout",
     "output_type": "stream",
     "text": [
      "5.440492586967052e-71 237.45598625019218\n"
     ]
    }
   ],
   "source": [
    "f, p = stats.f_oneway(iris_df['SepalLengthCm'], iris_df['SepalWidthCm'], iris_df['PetalLengthCm'])\n",
    "\n",
    "print(float(p), float(f))"
   ],
   "metadata": {
    "collapsed": false,
    "ExecuteTime": {
     "end_time": "2023-10-06T05:46:36.598289Z",
     "start_time": "2023-10-06T05:46:36.409685600Z"
    }
   },
   "id": "ae4cf5db13b9fd48"
  },
  {
   "cell_type": "code",
   "execution_count": null,
   "outputs": [],
   "source": [],
   "metadata": {
    "collapsed": false
   },
   "id": "17e26ba92ccf6e41"
  }
 ],
 "metadata": {
  "kernelspec": {
   "display_name": "Python 3",
   "language": "python",
   "name": "python3"
  },
  "language_info": {
   "codemirror_mode": {
    "name": "ipython",
    "version": 2
   },
   "file_extension": ".py",
   "mimetype": "text/x-python",
   "name": "python",
   "nbconvert_exporter": "python",
   "pygments_lexer": "ipython2",
   "version": "2.7.6"
  }
 },
 "nbformat": 4,
 "nbformat_minor": 5
}
